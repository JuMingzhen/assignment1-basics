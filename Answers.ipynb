{
 "cells": [
  {
   "cell_type": "markdown",
   "id": "ad2b3ea3",
   "metadata": {},
   "source": [
    "# All answers to problems"
   ]
  },
  {
   "cell_type": "markdown",
   "id": "bf98f598",
   "metadata": {},
   "source": [
    "### Problem (unicode1): Understanding Unicode\n",
    "(a) \\x00  \n",
    "(b) repr: formal way, more details  \n",
    "(c) chr(0) : \\x00  print(chr(0)) : nothing"
   ]
  },
  {
   "cell_type": "markdown",
   "id": "c83ea7a0",
   "metadata": {},
   "source": [
    "### Problem (unicode2): Unicode Encodings\n",
    "(a) 1.Storage Efficiency for Most Text 2.Alignment with Real-World Data  \n",
    "(b) Because many characters includes more than one byte.\n",
    "(c) 0xC0 0x80"
   ]
  },
  {
   "cell_type": "markdown",
   "id": "74157107",
   "metadata": {},
   "source": [
    "### Tinystories traing result\n",
    "初始化用时：2.3603439331054688e-05  \n",
    "Available core number:16  \n",
    "pretoken用时：33.17  \n",
    "构建pair对词典用时：0.03   \n",
    "合并用时：93.39   \n",
    "The longest vocab is b' accomplishment'"
   ]
  },
  {
   "cell_type": "markdown",
   "id": "28c809c2",
   "metadata": {},
   "source": [
    "### OpenWebText training result\n"
   ]
  },
  {
   "cell_type": "code",
   "execution_count": 4,
   "id": "10534bdc",
   "metadata": {},
   "outputs": [
    {
     "name": "stdout",
     "output_type": "stream",
     "text": [
      "tensor([[[1, 2, 3],\n",
      "         [3, 4, 5],\n",
      "         [2, 3, 4]],\n",
      "\n",
      "        [[3, 4, 5],\n",
      "         [2, 3, 4],\n",
      "         [1, 2, 3]],\n",
      "\n",
      "        [[1, 2, 3],\n",
      "         [2, 3, 4],\n",
      "         [3, 4, 5]]])\n"
     ]
    }
   ],
   "source": [
    "import torch\n",
    "a = torch.tensor([[1,2,3],[2,3,4],[3,4,5]])\n",
    "b = torch.tensor([[0,2,1],[2,1,0],[0,1,2]])\n",
    "print(a[b])"
   ]
  },
  {
   "cell_type": "markdown",
   "id": "b6b2fdd6",
   "metadata": {},
   "source": [
    "\n"
   ]
  },
  {
   "cell_type": "code",
   "execution_count": null,
   "id": "0a599464",
   "metadata": {},
   "outputs": [],
   "source": []
  },
  {
   "cell_type": "markdown",
   "id": "c618a9e1",
   "metadata": {},
   "source": []
  },
  {
   "cell_type": "markdown",
   "id": "c1b7af54",
   "metadata": {},
   "source": []
  }
 ],
 "metadata": {
  "kernelspec": {
   "display_name": "Python 3",
   "language": "python",
   "name": "python3"
  },
  "language_info": {
   "codemirror_mode": {
    "name": "ipython",
    "version": 3
   },
   "file_extension": ".py",
   "mimetype": "text/x-python",
   "name": "python",
   "nbconvert_exporter": "python",
   "pygments_lexer": "ipython3",
   "version": "3.13.7"
  }
 },
 "nbformat": 4,
 "nbformat_minor": 5
}
