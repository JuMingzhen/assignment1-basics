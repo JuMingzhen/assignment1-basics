{
 "cells": [
  {
   "cell_type": "markdown",
   "id": "ad2b3ea3",
   "metadata": {},
   "source": [
    "# All answers to problems"
   ]
  },
  {
   "cell_type": "markdown",
   "id": "bf98f598",
   "metadata": {},
   "source": [
    "### Problem (unicode1): Understanding Unicode\n",
    "(a) \\x00  \n",
    "(b) repr: formal way, more details  \n",
    "(c) chr(0) : \\x00  print(chr(0)) : nothing"
   ]
  },
  {
   "cell_type": "markdown",
   "id": "c83ea7a0",
   "metadata": {},
   "source": [
    "### Problem (unicode2): Unicode Encodings\n",
    "(a) 1.Storage Efficiency for Most Text 2.Alignment with Real-World Data  \n",
    "(b) Because many characters includes more than one byte.\n",
    "(c) 0xC0 0x80"
   ]
  },
  {
   "cell_type": "markdown",
   "id": "74157107",
   "metadata": {},
   "source": [
    "### Tinystories traing result\n",
    "初始化用时：2.3603439331054688e-05  \n",
    "Available core number:16  \n",
    "pretoken用时：33.17  \n",
    "构建pair对词典用时：0.03   \n",
    "合并用时：93.39   \n",
    "The longest vocab is b' accomplishment'"
   ]
  },
  {
   "cell_type": "markdown",
   "id": "28c809c2",
   "metadata": {},
   "source": [
    "### OpenWebText training result\n"
   ]
  },
  {
   "cell_type": "code",
   "execution_count": null,
   "id": "10534bdc",
   "metadata": {},
   "outputs": [],
   "source": []
  },
  {
   "cell_type": "markdown",
   "id": "b6b2fdd6",
   "metadata": {},
   "source": []
  },
  {
   "cell_type": "code",
   "execution_count": null,
   "id": "0a599464",
   "metadata": {},
   "outputs": [],
   "source": []
  },
  {
   "cell_type": "markdown",
   "id": "c618a9e1",
   "metadata": {},
   "source": []
  },
  {
   "cell_type": "markdown",
   "id": "c1b7af54",
   "metadata": {},
   "source": []
  }
 ],
 "metadata": {
  "language_info": {
   "name": "python"
  }
 },
 "nbformat": 4,
 "nbformat_minor": 5
}
